{
  "nbformat": 4,
  "nbformat_minor": 0,
  "metadata": {
    "colab": {
      "name": "train_raw_dataset.ipynb",
      "provenance": [],
      "collapsed_sections": [],
      "mount_file_id": "1Us8b1rMuLWbbXvsRL4L7KjS8enJrJlzF",
      "authorship_tag": "ABX9TyPCp+X0YzQ5g20vgKK1qZlB",
      "include_colab_link": true
    },
    "kernelspec": {
      "name": "python3",
      "display_name": "Python 3"
    },
    "accelerator": "GPU"
  },
  "cells": [
    {
      "cell_type": "markdown",
      "metadata": {
        "id": "view-in-github",
        "colab_type": "text"
      },
      "source": [
        "<a href=\"https://colab.research.google.com/github/jerry-mouse-2333/colab_save/blob/master/train_raw_dataset.ipynb\" target=\"_parent\"><img src=\"https://colab.research.google.com/assets/colab-badge.svg\" alt=\"Open In Colab\"/></a>"
      ]
    },
    {
      "cell_type": "markdown",
      "metadata": {
        "id": "HhlS9a966VQz",
        "colab_type": "text"
      },
      "source": [
        "## ***step1. 导入必要的包***"
      ]
    },
    {
      "cell_type": "code",
      "metadata": {
        "id": "eYUH-Tuj50cR",
        "colab_type": "code",
        "outputId": "6d605d9e-45e8-4ffb-e096-d2cba718c1c8",
        "colab": {
          "base_uri": "https://localhost:8080/",
          "height": 35
        }
      },
      "source": [
        "from __future__ import division, print_function, unicode_literals\n",
        "\n",
        "# Common imports\n",
        "import numpy as np\n",
        "import os\n",
        "import sys\n",
        "import h5py\n",
        "import tensorflow.compat.v1 as tf\n",
        "from functools import partial\n",
        "tf.reset_default_graph()\n",
        "print('ready')"
      ],
      "execution_count": 48,
      "outputs": [
        {
          "output_type": "stream",
          "text": [
            "ready\n"
          ],
          "name": "stdout"
        }
      ]
    },
    {
      "cell_type": "markdown",
      "metadata": {
        "id": "z-szzfy361Zl",
        "colab_type": "text"
      },
      "source": [
        "## ***step2. 防 jupyter dead kernel***"
      ]
    },
    {
      "cell_type": "code",
      "metadata": {
        "id": "jQLSQBBM6ieS",
        "colab_type": "code",
        "outputId": "64f7701f-270e-4974-d23f-74a78b98f6b8",
        "colab": {
          "base_uri": "https://localhost:8080/",
          "height": 35
        }
      },
      "source": [
        "from tensorflow.compat.v1 import ConfigProto\n",
        "from tensorflow.compat.v1 import InteractiveSession\n",
        "config = ConfigProto()\n",
        "config.gpu_options.allow_growth = True\n",
        "\n",
        "session = InteractiveSession(config=config)\n",
        "session.close()\n",
        "\n",
        "# InteractiveSession.close(session)\n",
        "print('ready')"
      ],
      "execution_count": 49,
      "outputs": [
        {
          "output_type": "stream",
          "text": [
            "ready\n"
          ],
          "name": "stdout"
        }
      ]
    },
    {
      "cell_type": "markdown",
      "metadata": {
        "id": "Jqm08eb27Ko1",
        "colab_type": "text"
      },
      "source": [
        "## ***step3. make def for plot***"
      ]
    },
    {
      "cell_type": "markdown",
      "metadata": {
        "id": "G7-0ZmLJ-Bn2",
        "colab_type": "text"
      },
      "source": [
        "#### **step3.1. basic 画布和标签**"
      ]
    },
    {
      "cell_type": "code",
      "metadata": {
        "id": "XDpejm_v7J71",
        "colab_type": "code",
        "outputId": "44aa9b7e-c0aa-486b-a2d7-3623f64525ba",
        "colab": {
          "base_uri": "https://localhost:8080/",
          "height": 35
        }
      },
      "source": [
        "%matplotlib inline\n",
        "import matplotlib\n",
        "import matplotlib.pyplot as plt\n",
        "\n",
        "#定义子图、x轴、y轴的标签大小\n",
        "\n",
        "(plt.rcParams['axes.labelsize'],plt.rcParams['xtick.labelsize'],plt.rcParams['ytick.labelsize'])  = (14,12,12)\n",
        "\n",
        "#定义图像显示的dpi、保存的dpi，显示的窗口大小\n",
        "\n",
        "(plt.rcParams['figure.dpi'],plt.rcParams['savefig.dpi'],plt.rcParams['figure.figsize'])=(300,300,(80,60))\n",
        "\n",
        "print('ready')"
      ],
      "execution_count": 50,
      "outputs": [
        {
          "output_type": "stream",
          "text": [
            "ready\n"
          ],
          "name": "stdout"
        }
      ]
    },
    {
      "cell_type": "markdown",
      "metadata": {
        "id": "-tHK9gjS-rxN",
        "colab_type": "text"
      },
      "source": [
        "###### **step3.1.1. plot** (desired_shape:希望展示的图片大小)"
      ]
    },
    {
      "cell_type": "code",
      "metadata": {
        "id": "gDHUnFhk-ojW",
        "colab_type": "code",
        "outputId": "620f3e14-eb73-47ba-e17b-2aa8217fe235",
        "colab": {
          "base_uri": "https://localhost:8080/",
          "height": 35
        }
      },
      "source": [
        "def plot_image(image, desired_shape=[128, 128]):\n",
        "    \n",
        "    plt.imshow(image.reshape(desired_shape), cmap=\"Greys\", interpolation=\"nearest\")\n",
        "    plt.axis(\"off\")\n",
        "\n",
        "def plot_multiple_images(images, n_rows, n_cols, pad=2):\n",
        "    print(images)\n",
        "    images = images - images.min()  # make the minimum == 0, so the padding looks white\n",
        "    print(images)\n",
        "    \n",
        "    w,h = images.shape[1:]\n",
        "    \n",
        "    image = np.zeros(((w+pad)*n_rows+pad, (h+pad)*n_cols+pad))\n",
        "    \n",
        "    for y in range(n_rows):\n",
        "        for x in range(n_cols):\n",
        "            image[(y*(h+pad)+pad):(y*(h+pad)+pad+h),(x*(w+pad)+pad):(x*(w+pad)+pad+w)] = images[y*n_cols+x]\n",
        "            \n",
        "    plt.imshow(image, cmap=\"Greys\", interpolation=\"nearest\")\n",
        "    plt.axis(\"off\")\n",
        "\n",
        "print('ready')"
      ],
      "execution_count": 51,
      "outputs": [
        {
          "output_type": "stream",
          "text": [
            "ready\n"
          ],
          "name": "stdout"
        }
      ]
    },
    {
      "cell_type": "markdown",
      "metadata": {
        "id": "gM0tu2OQ-Q3j",
        "colab_type": "text"
      },
      "source": [
        "#### **step3.2. where to save**"
      ]
    },
    {
      "cell_type": "code",
      "metadata": {
        "id": "luDUd9qd838r",
        "colab_type": "code",
        "outputId": "ddfacb53-a465-4d7f-a187-3b0ad768f106",
        "colab": {
          "base_uri": "https://localhost:8080/",
          "height": 35
        }
      },
      "source": [
        "# Where to save the figures\n",
        "root_dir = \"/content/drive\"\n",
        "sub_dir = \"/My Drive/result of trains\"\n",
        "path = os.path.join(root_dir,sub_dir,\"images\")\n",
        "print(path)\n"
      ],
      "execution_count": 52,
      "outputs": [
        {
          "output_type": "stream",
          "text": [
            "/My Drive/result of trains/images\n"
          ],
          "name": "stdout"
        }
      ]
    },
    {
      "cell_type": "code",
      "metadata": {
        "id": "Wq7DDh0b-cn0",
        "colab_type": "code",
        "outputId": "7c423d0c-57d5-483b-e258-5eb9d5487e6b",
        "colab": {
          "base_uri": "https://localhost:8080/",
          "height": 35
        }
      },
      "source": [
        "\n",
        "#tight_layout: 使子图布满图像区域\n",
        "def save_fig(fig_id, tight_layout=True):\n",
        "    save_path = os.path.join(path, fig_id + \".png\")\n",
        "    print(\"Saving figure\", fig_id)\n",
        "    os.makedirs(path, exist_ok=True)\n",
        "    \n",
        "#    if not os.path.exists(os.path.join(PROJECT_ROOT_DIR, \"images\", CHAPTER_ID)):\n",
        "\n",
        "#        os.makedirs(os.path.join(PROJECT_ROOT_DIR, \"images\", CHAPTER_ID))\n",
        "    if tight_layout:\n",
        "        plt.tight_layout()\n",
        "    plt.savefig(save_name, format='png', dpi=300)\n",
        "print('ready')"
      ],
      "execution_count": 53,
      "outputs": [
        {
          "output_type": "stream",
          "text": [
            "ready\n"
          ],
          "name": "stdout"
        }
      ]
    },
    {
      "cell_type": "markdown",
      "metadata": {
        "id": "DH7XYtEV_bMs",
        "colab_type": "text"
      },
      "source": [
        "## **step4. 散度**"
      ]
    },
    {
      "cell_type": "code",
      "metadata": {
        "id": "J0rnLKeO-l7k",
        "colab_type": "code",
        "outputId": "ad1c6c2d-5b3e-4ed1-f3f7-dd788d750a9f",
        "colab": {
          "base_uri": "https://localhost:8080/",
          "height": 35
        }
      },
      "source": [
        "def kl_divergence(p, q):\n",
        "    # Kullback Leibler divergence\n",
        "    return p * tf.log(p / q) + (1 - p) * tf.log((1 - p) / (1 - q))\n",
        "print('ready')"
      ],
      "execution_count": 54,
      "outputs": [
        {
          "output_type": "stream",
          "text": [
            "ready\n"
          ],
          "name": "stdout"
        }
      ]
    },
    {
      "cell_type": "markdown",
      "metadata": {
        "id": "SNnzIL6U_lM7",
        "colab_type": "text"
      },
      "source": [
        "## **step4. 网络结构**\n",
        "#### **step4.1. 参数设置**"
      ]
    },
    {
      "cell_type": "code",
      "metadata": {
        "id": "nzm68tc6_lba",
        "colab_type": "code",
        "outputId": "ddeaa8a3-2f63-4e90-ead4-572d4d97b5c3",
        "colab": {
          "base_uri": "https://localhost:8080/",
          "height": 35
        }
      },
      "source": [
        "filters=[32,16,32]\n",
        "conv_kernel=3\n",
        "\n",
        "batch_size = 64\n",
        "ephochs = 10\n",
        "\n",
        "#原始图片尺寸\n",
        "width = 640\n",
        "height = 480\n",
        "depth = 3\n",
        "\n",
        "#输入层\n",
        "input_dim = (480,640)\n",
        "\n",
        "#编码层输出\n",
        "en_output=2\n",
        "\n",
        "#解码层输出\n",
        "output_dim = input_dim\n",
        "\n",
        "#学习率与正则参数\n",
        "learning_rate = 0.01\n",
        "l2_reg = 0.0001\n",
        "\n",
        "#散度参数\n",
        "sparsity_target = 0.1\n",
        "sparsity_weight = 0.2\n",
        "\n",
        "#train_method2：全连接层\n",
        "en1 = 300 #hid_1 of encoder\n",
        "en2 = 150  \n",
        "de1 = en2 #hid_1 of decoder\n",
        "de2 = en1\n",
        "\n",
        "\n",
        "\n",
        "print('ready')"
      ],
      "execution_count": 55,
      "outputs": [
        {
          "output_type": "stream",
          "text": [
            "ready\n"
          ],
          "name": "stdout"
        }
      ]
    },
    {
      "cell_type": "markdown",
      "metadata": {
        "id": "chL0oLtsHZLK",
        "colab_type": "text"
      },
      "source": [
        "无奈之举，想设置kernel_size=5，strides=3，但无法使得输入输出一致"
      ]
    },
    {
      "cell_type": "markdown",
      "metadata": {
        "id": "YKgwFFkEBRkZ",
        "colab_type": "text"
      },
      "source": [
        "#### **step4.2. 网络结构**\n",
        "###### **step4.21. encoder**"
      ]
    },
    {
      "cell_type": "code",
      "metadata": {
        "id": "9L3fLIgEBbto",
        "colab_type": "code",
        "colab": {}
      },
      "source": [
        "#收集变量绘制其histogram等\n",
        "tensor_list=[]\n",
        "\n",
        "with tf.name_scope(\"encoder\") as scope:\n",
        "\n",
        "    def en_module(en_inputs,en_output_dim,filters,k=conv_kernel):\n",
        "        x=en_inputs\n",
        "        i=0\n",
        "        for _ in filters:\n",
        "            print(_)\n",
        "            # if (i==2):\n",
        "            #   x = tf.layers.conv2d(x,_,3,2,name='conv_'+str(i))\n",
        "            # else:\n",
        "            x = tf.layers.conv2d(x,_,3,2,padding='same',name='conv_'+str(i))\n",
        "            tensor_list.append(x)\n",
        "            print(x.shape)\n",
        "            tf.add_to_collection('reuse', x)\n",
        "            x=tf.nn.leaky_relu(x, alpha=0.01,name='act_'+str(i))\n",
        "            tensor_list.append(x)\n",
        "            \n",
        "            tf.add_to_collection('reuse', x)\n",
        "            x = tf.layers.batch_normalization(x,axis=-1,name='batch_norm_'+str(i))\n",
        "            tensor_list.append(x)\n",
        "            \n",
        "            tf.add_to_collection('reuse', x)\n",
        "            i+=1\n",
        "        \n",
        "        shape=x.get_shape().as_list()\n",
        "\n",
        "        print(shape)\n",
        "        flat1 = tf.layers.flatten(x,name='flattened')\n",
        "        #print(flat1.shape)\n",
        "\n",
        "        #必须使用sigmoid激活使得KL_loss!=Nan\n",
        "        half_output = my_dense_layer(flat1,en_output_dim,activation = \"sigmoid\",name=\"encoder_output\")\n",
        "\n",
        "        tf.add_to_collection('reuse', half_output)\n",
        "\n",
        "        return shape,flat1,half_output\n"
      ],
      "execution_count": 0,
      "outputs": []
    },
    {
      "cell_type": "markdown",
      "metadata": {
        "id": "7kS1o6L1Cd3Q",
        "colab_type": "text"
      },
      "source": [
        "###### **step4.21. decoder**"
      ]
    },
    {
      "cell_type": "code",
      "metadata": {
        "id": "WHok7uMbCRj4",
        "colab_type": "code",
        "colab": {}
      },
      "source": [
        "with tf.name_scope(\"decoder\") as scope:\n",
        "  def de_module(de_inputs,depth,filters,k=conv_kernel):\n",
        "    x = de_inputs\n",
        "    i=0\n",
        "\n",
        "    for _ in filters[::-1]:\n",
        "      x = tf.layers.conv2d_transpose(x,_,3,2,padding='same',name='conv_tran_'+str(i+len(filters)))\n",
        "      print(x.shape)\n",
        "      x=tf.nn.leaky_relu(x, alpha=0.01,name='de_act_'+str(i+len(filters)))\n",
        "      \n",
        "      x = tf.layers.batch_normalization(x,axis=-1,name='de_batch_norm_'+str(i+len(filters)))\n",
        "      i+=1\n",
        "      \n",
        "\n",
        "      #整合所有通道\n",
        "    outputs_op = tf.layers.conv2d_transpose(x,depth,3,1,padding='same',activation=\"sigmoid\",name='outputs_op')\n",
        "\n",
        "      #观察最后的重建效果\n",
        "    tf.add_to_collection('reuse', outputs_op)\n",
        "    outputs=outputs_op\n",
        "    return outputs\n",
        "\n"
      ],
      "execution_count": 0,
      "outputs": []
    },
    {
      "cell_type": "markdown",
      "metadata": {
        "id": "Je27ztb3DuiZ",
        "colab_type": "text"
      },
      "source": [
        "###### **step4.2.3. 正式布置graph**"
      ]
    },
    {
      "cell_type": "code",
      "metadata": {
        "id": "n3D6wu5rDvW1",
        "colab_type": "code",
        "outputId": "0d17f2bd-605e-46c3-ead4-faa1f0a0fcab",
        "colab": {
          "base_uri": "https://localhost:8080/",
          "height": 35
        }
      },
      "source": [
        "tf.compat.v1.disable_eager_execution()\n",
        "inputs = tf.placeholder(tf.float32, shape=[None,input_dim[0],input_dim[1],depth])#?,128,128\n",
        "print(inputs)"
      ],
      "execution_count": 58,
      "outputs": [
        {
          "output_type": "stream",
          "text": [
            "Tensor(\"Placeholder:0\", shape=(None, 480, 640, 3), dtype=float32)\n"
          ],
          "name": "stdout"
        }
      ]
    },
    {
      "cell_type": "code",
      "metadata": {
        "id": "KQRgU8yXGQxz",
        "colab_type": "code",
        "outputId": "c6aa5bff-14f4-4ef4-9310-397d43b50a71",
        "colab": {
          "base_uri": "https://localhost:8080/",
          "height": 284
        }
      },
      "source": [
        "\n",
        "#把input加入到将来要用的集合中\n",
        "tf.add_to_collection('reuse', inputs)\n",
        "print(inputs.shape)\n",
        "\n",
        "#he_init = tf.contrib.layers.variance_scaling_initializer() # He initialization\n",
        "he_init = tf.variance_scaling_initializer()\n",
        "l2_regularizer = tf.keras.regularizers.l2(l2_reg)\n",
        "my_dense_layer = partial(tf.layers.dense,activation=tf.nn.elu,\n",
        "                             kernel_initializer=he_init,\n",
        "                             kernel_regularizer=l2_regularizer)\n",
        "# en_inputs = tf.expand_dims(inputs,axis=-1,name=\"encoder_input\")\n",
        "en_inputs=inputs\n",
        "\n",
        "shape,flat1,half_output = en_module(en_inputs,en_output_dim=en_output,filters=filters)\n",
        "print('shape_in_encoder:',shape)\n",
        "print(half_output.name)\n",
        "\n",
        "\n",
        "decode_input = my_dense_layer(half_output,np.prod(flat1.shape[1:]),name=\"decoder_input\")#现为（？，32*32*8）\n",
        "#print(decode_input)\n",
        "decode_input_reshape= tf.reshape(decode_input,shape=(-1,shape[1],shape[2],shape[3]))#how to reshape it to(?,32,32,8)\n",
        "\n",
        "outputs = de_module(decode_input_reshape,depth=depth,filters=filters)\n",
        "print(outputs)\n",
        "print(outputs.name)\n",
        "\n",
        "encode_mean = tf.reduce_mean(half_output, axis=0)\n",
        "\n"
      ],
      "execution_count": 59,
      "outputs": [
        {
          "output_type": "stream",
          "text": [
            "(None, 480, 640, 3)\n",
            "32\n",
            "(None, 240, 320, 32)\n",
            "16\n",
            "(None, 120, 160, 16)\n",
            "32\n",
            "(None, 60, 80, 32)\n",
            "[None, 60, 80, 32]\n",
            "shape_in_encoder: [None, 60, 80, 32]\n",
            "encoder_output/Sigmoid:0\n",
            "(None, 120, 160, 32)\n",
            "(None, 240, 320, 16)\n",
            "(None, 480, 640, 32)\n",
            "Tensor(\"outputs_op/Sigmoid:0\", shape=(None, 480, 640, 3), dtype=float32)\n",
            "outputs_op/Sigmoid:0\n"
          ],
          "name": "stdout"
        }
      ]
    },
    {
      "cell_type": "markdown",
      "metadata": {
        "id": "OBNvLOBlPCMa",
        "colab_type": "text"
      },
      "source": [
        "## step4 可视化设置"
      ]
    },
    {
      "cell_type": "code",
      "metadata": {
        "id": "atAo6zOGPBrE",
        "colab_type": "code",
        "colab": {
          "base_uri": "https://localhost:8080/",
          "height": 232
        },
        "outputId": "4040b836-c378-4f0c-fb86-bdd4af8de94b"
      },
      "source": [
        "with tf.name_scope(\"loss\") as scope:\n",
        "    kl=kl_divergence(sparsity_target, encode_mean)\n",
        "\n",
        "    sparsity_loss = tf.reduce_sum(kl_divergence(sparsity_target, encode_mean))\n",
        "    reconstruction_loss = tf.reduce_mean(tf.square(outputs - en_inputs))\n",
        "    loss = reconstruction_loss + sparsity_weight * sparsity_loss\n",
        "    #tensor_list.append(loss)\n",
        "optimizer = tf.train.AdamOptimizer(learning_rate)\n",
        "training_op = optimizer.minimize(loss)\n",
        "\n",
        "tf.summary.scalar(\"loss\",loss)\n",
        "# 用来显示标量信息，常用于画出loss、accuracy曲线\n",
        "print(tensor_list)\n",
        "for i in range(len(tensor_list)):\n",
        "    name=tensor_list[i]\n",
        "    #print(name.dtype)\n",
        "    tf.summary.histogram(str(name),name) \n",
        "# 用来收集tensor，可显示出训练过程中变量的分布情况\n",
        "\n",
        "\n",
        "init = tf.global_variables_initializer()\n",
        "saver = tf.train.Saver() # not shown in the book\n",
        "print('ok')"
      ],
      "execution_count": 60,
      "outputs": [
        {
          "output_type": "stream",
          "text": [
            "[<tf.Tensor 'conv_0/BiasAdd:0' shape=(None, 240, 320, 32) dtype=float32>, <tf.Tensor 'act_0:0' shape=(None, 240, 320, 32) dtype=float32>, <tf.Tensor 'batch_norm_0/FusedBatchNormV3:0' shape=(None, 240, 320, 32) dtype=float32>, <tf.Tensor 'conv_1/BiasAdd:0' shape=(None, 120, 160, 16) dtype=float32>, <tf.Tensor 'act_1:0' shape=(None, 120, 160, 16) dtype=float32>, <tf.Tensor 'batch_norm_1/FusedBatchNormV3:0' shape=(None, 120, 160, 16) dtype=float32>, <tf.Tensor 'conv_2/BiasAdd:0' shape=(None, 60, 80, 32) dtype=float32>, <tf.Tensor 'act_2:0' shape=(None, 60, 80, 32) dtype=float32>, <tf.Tensor 'batch_norm_2/FusedBatchNormV3:0' shape=(None, 60, 80, 32) dtype=float32>]\n",
            "INFO:tensorflow:Summary name Tensor(\"conv_0/BiasAdd:0\", shape=(None, 240, 320, 32), dtype=float32) is illegal; using Tensor__conv_0/BiasAdd_0___shape__None__240__320__32___dtype_float32_ instead.\n",
            "INFO:tensorflow:Summary name Tensor(\"act_0:0\", shape=(None, 240, 320, 32), dtype=float32) is illegal; using Tensor__act_0_0___shape__None__240__320__32___dtype_float32_ instead.\n",
            "INFO:tensorflow:Summary name Tensor(\"batch_norm_0/FusedBatchNormV3:0\", shape=(None, 240, 320, 32), dtype=float32) is illegal; using Tensor__batch_norm_0/FusedBatchNormV3_0___shape__None__240__320__32___dtype_float32_ instead.\n",
            "INFO:tensorflow:Summary name Tensor(\"conv_1/BiasAdd:0\", shape=(None, 120, 160, 16), dtype=float32) is illegal; using Tensor__conv_1/BiasAdd_0___shape__None__120__160__16___dtype_float32_ instead.\n",
            "INFO:tensorflow:Summary name Tensor(\"act_1:0\", shape=(None, 120, 160, 16), dtype=float32) is illegal; using Tensor__act_1_0___shape__None__120__160__16___dtype_float32_ instead.\n",
            "INFO:tensorflow:Summary name Tensor(\"batch_norm_1/FusedBatchNormV3:0\", shape=(None, 120, 160, 16), dtype=float32) is illegal; using Tensor__batch_norm_1/FusedBatchNormV3_0___shape__None__120__160__16___dtype_float32_ instead.\n",
            "INFO:tensorflow:Summary name Tensor(\"conv_2/BiasAdd:0\", shape=(None, 60, 80, 32), dtype=float32) is illegal; using Tensor__conv_2/BiasAdd_0___shape__None__60__80__32___dtype_float32_ instead.\n",
            "INFO:tensorflow:Summary name Tensor(\"act_2:0\", shape=(None, 60, 80, 32), dtype=float32) is illegal; using Tensor__act_2_0___shape__None__60__80__32___dtype_float32_ instead.\n",
            "INFO:tensorflow:Summary name Tensor(\"batch_norm_2/FusedBatchNormV3:0\", shape=(None, 60, 80, 32), dtype=float32) is illegal; using Tensor__batch_norm_2/FusedBatchNormV3_0___shape__None__60__80__32___dtype_float32_ instead.\n",
            "ok\n"
          ],
          "name": "stdout"
        }
      ]
    },
    {
      "cell_type": "code",
      "metadata": {
        "id": "7OJIULHcO_go",
        "colab_type": "code",
        "colab": {
          "base_uri": "https://localhost:8080/",
          "height": 52
        },
        "outputId": "8f846918-abe1-4e8f-a78c-2d15b20214ca"
      },
      "source": [
        "summary_save_dir = os.path.join(root_dir,sub_dir, \"models\")\n",
        "os.makedirs(summary_save_dir, exist_ok=True)\n",
        "print(summary_save_dir )\n",
        "writer= tf.summary.FileWriter(summary_save_dir,tf.get_default_graph())\n",
        "#获取当前默认的保存图，并在tensorboard graph中展示\n",
        "\n",
        "\n",
        "merge_op = tf.summary.merge_all()\n",
        "#执行所有summary操作\n",
        "print(\"ready\")"
      ],
      "execution_count": 62,
      "outputs": [
        {
          "output_type": "stream",
          "text": [
            "/My Drive/result of trains/models\n",
            "ready\n"
          ],
          "name": "stdout"
        }
      ]
    },
    {
      "cell_type": "markdown",
      "metadata": {
        "id": "EzI07ImHO_NS",
        "colab_type": "text"
      },
      "source": [
        "## **step5. 开始训练与结果保存**"
      ]
    },
    {
      "cell_type": "code",
      "metadata": {
        "id": "JmTFB0AlOW1-",
        "colab_type": "code",
        "colab": {
          "base_uri": "https://localhost:8080/",
          "height": 460
        },
        "outputId": "5f469cfa-1626-449e-819b-30ce4af6f5bd"
      },
      "source": [
        "data_path = '/content/drive/Shared drives/shared/dataset.h5'\n",
        "h5_file=h5py.File(data_path,'r')\n",
        "X_train=np.array(h5_file['X_train'])\n",
        "X_test=np.array(h5_file['X_test'])\n",
        "\n",
        "def get_batch(dataset):\n",
        "    input_queue = tf.train.slice_input_producer([dataset],num_epochs=n_epochs,shuffle=True)\n",
        "    X_batch = tf.train.batch(input_queue, batch_size=batch_size, num_threads=1, capacity=64)\n",
        "    return X_batch\n",
        "X_batch= get_batch(X_train) \n",
        "\n",
        "with tf.Session() as sess:\n",
        "    init.run()\n",
        "    sess.run(tf.local_variables_initializer())\n",
        "    coord = tf.train.Coordinator()\n",
        "    threads = tf.train.start_queue_runners(sess, coord)\n",
        "    try:\n",
        "        for epoch in range(epochs-8):\n",
        "            n_batches = X_train.shape[0] // batch_size\n",
        "\n",
        "            print(n_batches)\n",
        "            for iteration in range(n_batches):\n",
        "                #print(\"\\r{}%\".format(100 * iteration // n_batches), end=\"\") # not shown in the book\n",
        "                sys.stdout.flush()\n",
        "                x_batch=sess.run(X_batch)\n",
        "                #print(x_batch.shape)\n",
        "                sess.run(training_op, feed_dict={inputs: x_batch})\n",
        "                result=sess.run(merge_op, feed_dict={inputs: x_batch})\n",
        "                writer.add_summary(result,iteration)\n",
        "                \n",
        "            reconstruction_loss_val, sparsity_loss_val, loss_val = sess.run([reconstruction_loss,sparsity_loss, loss], feed_dict={inputs: x_batch})\n",
        "            #print(sess.run(kl,feed_dict={X: x_batch}))\n",
        "            print(\"\\r{}\".format(epoch), \"Train MSE:\", reconstruction_loss_val, \"\\tSparsity loss:\",sparsity_loss_val, \"\\tTotal loss:\", loss_val)           # not shown\n",
        "              \n",
        "    except tf.errors.OutOfRangeError:\n",
        "        print(\"done\")\n",
        "    finally:\n",
        "        coord.request_stop()\n",
        "    coord.join(threads)\n",
        "    \n",
        "    save_dir = '/content/drive/My Drive/result of trains'\n",
        "    save_path = os.path.join(save.dir,\"my_model_all_layers.ckpt\")\n",
        "\n",
        "    saver.save(sess, save_path) \n",
        "    print('ok')\n"
      ],
      "execution_count": 64,
      "outputs": [
        {
          "output_type": "error",
          "ename": "KeyboardInterrupt",
          "evalue": "ignored",
          "traceback": [
            "\u001b[0;31m---------------------------------------------------------------------------\u001b[0m",
            "\u001b[0;31mKeyboardInterrupt\u001b[0m                         Traceback (most recent call last)",
            "\u001b[0;32m<ipython-input-64-7b0156fea9bf>\u001b[0m in \u001b[0;36m<module>\u001b[0;34m()\u001b[0m\n\u001b[1;32m      1\u001b[0m \u001b[0mdata_path\u001b[0m \u001b[0;34m=\u001b[0m \u001b[0;34m'/content/drive/Shared drives/shared/dataset.h5'\u001b[0m\u001b[0;34m\u001b[0m\u001b[0;34m\u001b[0m\u001b[0m\n\u001b[1;32m      2\u001b[0m \u001b[0mh5_file\u001b[0m\u001b[0;34m=\u001b[0m\u001b[0mh5py\u001b[0m\u001b[0;34m.\u001b[0m\u001b[0mFile\u001b[0m\u001b[0;34m(\u001b[0m\u001b[0mdata_path\u001b[0m\u001b[0;34m,\u001b[0m\u001b[0;34m'r'\u001b[0m\u001b[0;34m)\u001b[0m\u001b[0;34m\u001b[0m\u001b[0;34m\u001b[0m\u001b[0m\n\u001b[0;32m----> 3\u001b[0;31m \u001b[0mX_train\u001b[0m\u001b[0;34m=\u001b[0m\u001b[0mnp\u001b[0m\u001b[0;34m.\u001b[0m\u001b[0marray\u001b[0m\u001b[0;34m(\u001b[0m\u001b[0mh5_file\u001b[0m\u001b[0;34m[\u001b[0m\u001b[0;34m'X_train'\u001b[0m\u001b[0;34m]\u001b[0m\u001b[0;34m)\u001b[0m\u001b[0;34m\u001b[0m\u001b[0;34m\u001b[0m\u001b[0m\n\u001b[0m\u001b[1;32m      4\u001b[0m \u001b[0mX_test\u001b[0m\u001b[0;34m=\u001b[0m\u001b[0mnp\u001b[0m\u001b[0;34m.\u001b[0m\u001b[0marray\u001b[0m\u001b[0;34m(\u001b[0m\u001b[0mh5_file\u001b[0m\u001b[0;34m[\u001b[0m\u001b[0;34m'X_test'\u001b[0m\u001b[0;34m]\u001b[0m\u001b[0;34m)\u001b[0m\u001b[0;34m\u001b[0m\u001b[0;34m\u001b[0m\u001b[0m\n\u001b[1;32m      5\u001b[0m \u001b[0;34m\u001b[0m\u001b[0m\n",
            "\u001b[0;32mh5py/_objects.pyx\u001b[0m in \u001b[0;36mh5py._objects.with_phil.wrapper\u001b[0;34m()\u001b[0m\n",
            "\u001b[0;32mh5py/_objects.pyx\u001b[0m in \u001b[0;36mh5py._objects.with_phil.wrapper\u001b[0;34m()\u001b[0m\n",
            "\u001b[0;32m/usr/local/lib/python3.6/dist-packages/h5py/_hl/dataset.py\u001b[0m in \u001b[0;36m__array__\u001b[0;34m(self, dtype)\u001b[0m\n\u001b[1;32m    770\u001b[0m             \u001b[0;32mreturn\u001b[0m \u001b[0marr\u001b[0m\u001b[0;34m\u001b[0m\u001b[0;34m\u001b[0m\u001b[0m\n\u001b[1;32m    771\u001b[0m \u001b[0;34m\u001b[0m\u001b[0m\n\u001b[0;32m--> 772\u001b[0;31m         \u001b[0mself\u001b[0m\u001b[0;34m.\u001b[0m\u001b[0mread_direct\u001b[0m\u001b[0;34m(\u001b[0m\u001b[0marr\u001b[0m\u001b[0;34m)\u001b[0m\u001b[0;34m\u001b[0m\u001b[0;34m\u001b[0m\u001b[0m\n\u001b[0m\u001b[1;32m    773\u001b[0m         \u001b[0;32mreturn\u001b[0m \u001b[0marr\u001b[0m\u001b[0;34m\u001b[0m\u001b[0;34m\u001b[0m\u001b[0m\n\u001b[1;32m    774\u001b[0m \u001b[0;34m\u001b[0m\u001b[0m\n",
            "\u001b[0;32m/usr/local/lib/python3.6/dist-packages/h5py/_hl/dataset.py\u001b[0m in \u001b[0;36mread_direct\u001b[0;34m(self, dest, source_sel, dest_sel)\u001b[0m\n\u001b[1;32m    731\u001b[0m \u001b[0;34m\u001b[0m\u001b[0m\n\u001b[1;32m    732\u001b[0m             \u001b[0;32mfor\u001b[0m \u001b[0mmspace\u001b[0m \u001b[0;32min\u001b[0m \u001b[0mdest_sel\u001b[0m\u001b[0;34m.\u001b[0m\u001b[0mbroadcast\u001b[0m\u001b[0;34m(\u001b[0m\u001b[0msource_sel\u001b[0m\u001b[0;34m.\u001b[0m\u001b[0mmshape\u001b[0m\u001b[0;34m)\u001b[0m\u001b[0;34m:\u001b[0m\u001b[0;34m\u001b[0m\u001b[0;34m\u001b[0m\u001b[0m\n\u001b[0;32m--> 733\u001b[0;31m                 \u001b[0mself\u001b[0m\u001b[0;34m.\u001b[0m\u001b[0mid\u001b[0m\u001b[0;34m.\u001b[0m\u001b[0mread\u001b[0m\u001b[0;34m(\u001b[0m\u001b[0mmspace\u001b[0m\u001b[0;34m,\u001b[0m \u001b[0mfspace\u001b[0m\u001b[0;34m,\u001b[0m \u001b[0mdest\u001b[0m\u001b[0;34m,\u001b[0m \u001b[0mdxpl\u001b[0m\u001b[0;34m=\u001b[0m\u001b[0mself\u001b[0m\u001b[0;34m.\u001b[0m\u001b[0m_dxpl\u001b[0m\u001b[0;34m)\u001b[0m\u001b[0;34m\u001b[0m\u001b[0;34m\u001b[0m\u001b[0m\n\u001b[0m\u001b[1;32m    734\u001b[0m \u001b[0;34m\u001b[0m\u001b[0m\n\u001b[1;32m    735\u001b[0m     \u001b[0;32mdef\u001b[0m \u001b[0mwrite_direct\u001b[0m\u001b[0;34m(\u001b[0m\u001b[0mself\u001b[0m\u001b[0;34m,\u001b[0m \u001b[0msource\u001b[0m\u001b[0;34m,\u001b[0m \u001b[0msource_sel\u001b[0m\u001b[0;34m=\u001b[0m\u001b[0;32mNone\u001b[0m\u001b[0;34m,\u001b[0m \u001b[0mdest_sel\u001b[0m\u001b[0;34m=\u001b[0m\u001b[0;32mNone\u001b[0m\u001b[0;34m)\u001b[0m\u001b[0;34m:\u001b[0m\u001b[0;34m\u001b[0m\u001b[0;34m\u001b[0m\u001b[0m\n",
            "\u001b[0;31mKeyboardInterrupt\u001b[0m: "
          ]
        }
      ]
    }
  ]
}